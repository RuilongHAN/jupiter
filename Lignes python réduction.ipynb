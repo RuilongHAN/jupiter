{
 "cells": [
  {
   "cell_type": "code",
   "execution_count": 1,
   "metadata": {},
   "outputs": [
    {
     "data": {
      "text/plain": [
       "'\\n@author: Pierre Guiot\\nAdaptation en notebook: Raphaël Wicker, Cateline Lantz\\n'"
      ]
     },
     "execution_count": 1,
     "metadata": {},
     "output_type": "execute_result"
    }
   ],
   "source": [
    "# -*- coding: utf-8 -*-\n",
    "\"\"\"\n",
    "@author: Pierre Guiot\n",
    "Adaptation en notebook: Raphaël Wicker, Cateline Lantz\n",
    "\"\"\""
   ]
  },
  {
   "cell_type": "code",
   "execution_count": 2,
   "metadata": {},
   "outputs": [],
   "source": [
    "import numpy as np\n",
    "import matplotlib.pyplot as plt\n",
    "from matplotlib import colors\n",
    "import glob\n",
    "from astropy.io import fits # Pour ouvrir et manipuler les données\n",
    "from scipy.ndimage import rotate # Pour la rotation des images\n",
    "from scipy.optimize import curve_fit # Pour la régression linéaire"
   ]
  },
  {
   "cell_type": "markdown",
   "metadata": {
    "tags": []
   },
   "source": [
    "# Lecture des données\n",
    "\n",
    "Les prochaines lignes permettent d'accéder aux images de science, de Dark, de calib et potentiellement de Flats, pour les lire et récupérer les données sous forme d'array numpy.\n",
    "\n",
    "Les chemins doivent prendre la forme `chemin/vers/les/fichiers/*`, l'astérique servant à signifier que vous récupérez tous les fichiers à l'intérieur du dossier qui vous intéresse.\n",
    "\n",
    "Dans la cellule ci-dessous, vous pourrez trouver trois boucles `for` (une pour chaque type de donnée, quatre si vous utilisez le flat), ainsi que des tableaux `XXX_cube`:\n",
    "\n",
    "* Les boucles `for` parcourent tous les fichiers présents dans le chemin fourni, en les triant dans l'ordre alphanumérique, et en fournissant une variable \"compteur\" et une variable \"nom de fichier\" à la boucle `for`.\n",
    "* Les tableaux `XXX_cube` contiennent 3 dimensions selon lesquelles sont stockées les données : (n,l,c) où n est le numéro de l'image dans la série d'acquisitions, l la dimension des lignes de l'image et c la dimension des colonnes de l'image."
   ]
  },
  {
   "cell_type": "markdown",
   "metadata": {},
   "source": [
    "### Code"
   ]
  },
  {
   "cell_type": "code",
   "execution_count": 3,
   "metadata": {},
   "outputs": [],
   "source": [
    "science_path = \"Downloads/Documents/ASTRO/Jupiter_2400_21092022/sci/*\" # Chemin vers les données de science\n",
    "dark_path = \"Downloads/Documents/ASTRO/Jupiter_2400_21092022/dark/*\" # Chemin vers les dark\n",
    "calib_path = \"Downloads/Documents/ASTRO/Jupiter_2400_21092022/calib/*\" # Chemin vers les calibs\n",
    "# Si utilisation des flats, rajouter le chemin\n",
    "\n",
    "science_cube = [5]\n",
    "dark_cube = [9]\n",
    "calib_cube = [12]\n",
    "\n",
    "for i, file in enumerate(sorted(glob.glob(science_path))): \n",
    "    hdu = fits.open(file)\n",
    "    image = hdu[0].data\n",
    "    science_cube.append(image)\n",
    "\n",
    "science_cube = np.asarray(science_cube, dtype=np.float64)\n",
    "\n",
    "for i, file in enumerate(sorted(glob.glob(dark_path))):\n",
    "    hdu = fits.open(file)\n",
    "    image = hdu[0].data\n",
    "    dark_cube.append(image)\n",
    "\n",
    "dark_cube = np.asarray(dark_cube, dtype=np.float64)\n",
    "\n",
    "for i, file in enumerate(sorted(glob.glob(calib_path))):\n",
    "    hdu = fits.open(file)\n",
    "    image = hdu[0].data\n",
    "    calib_cube.append(image)\n",
    "\n",
    "calib_cube = np.asarray(calib_cube, dtype=np.float64)\n",
    "# Si utilisation des flats, créer un flat_cube sur le modèle des blocs de code précédents"
   ]
  },
  {
   "cell_type": "markdown",
   "metadata": {},
   "source": [
    "### Visualisation\n",
    "\n",
    "Afin d'améliorer la visualisation des contrastes des images, vous pourrez spécifier des mots-clef `vmin` et `vmax` à l'intérieur des `plt.imshow()`.\n",
    "Sans spécifier ces seuils vous risquez de vous retrouver avec des images entièrement blanches, noires, ou saturées."
   ]
  },
  {
   "cell_type": "code",
   "execution_count": 4,
   "metadata": {},
   "outputs": [
    {
     "ename": "TypeError",
     "evalue": "Invalid shape () for image data",
     "output_type": "error",
     "traceback": [
      "\u001b[1;31m---------------------------------------------------------------------------\u001b[0m",
      "\u001b[1;31mTypeError\u001b[0m                                 Traceback (most recent call last)",
      "Cell \u001b[1;32mIn [4], line 5\u001b[0m\n\u001b[0;32m      3\u001b[0m plt\u001b[38;5;241m.\u001b[39mfigure(\u001b[38;5;241m1\u001b[39m)\n\u001b[0;32m      4\u001b[0m plt\u001b[38;5;241m.\u001b[39mclf()\n\u001b[1;32m----> 5\u001b[0m \u001b[43mplt\u001b[49m\u001b[38;5;241;43m.\u001b[39;49m\u001b[43mimshow\u001b[49m\u001b[43m(\u001b[49m\u001b[43mscience_cube\u001b[49m\u001b[43m[\u001b[49m\u001b[38;5;241;43m0\u001b[39;49m\u001b[43m]\u001b[49m\u001b[43m,\u001b[49m\u001b[43m \u001b[49m\u001b[43minterpolation\u001b[49m\u001b[38;5;241;43m=\u001b[39;49m\u001b[38;5;28;43;01mNone\u001b[39;49;00m\u001b[43m,\u001b[49m\u001b[43m \u001b[49m\u001b[43morigin\u001b[49m\u001b[38;5;241;43m=\u001b[39;49m\u001b[38;5;124;43m'\u001b[39;49m\u001b[38;5;124;43mlower\u001b[39;49m\u001b[38;5;124;43m'\u001b[39;49m\u001b[43m,\u001b[49m\u001b[43m \u001b[49m\u001b[43mcmap\u001b[49m\u001b[38;5;241;43m=\u001b[39;49m\u001b[38;5;124;43m'\u001b[39;49m\u001b[38;5;124;43mGreys_r\u001b[39;49m\u001b[38;5;124;43m'\u001b[39;49m\u001b[43m)\u001b[49m \u001b[38;5;66;03m#vmin = , vmax = \u001b[39;00m\n\u001b[0;32m      6\u001b[0m plt\u001b[38;5;241m.\u001b[39mtitle(\u001b[38;5;124m'\u001b[39m\u001b[38;5;124mFirst science image\u001b[39m\u001b[38;5;124m'\u001b[39m)\n\u001b[0;32m      7\u001b[0m plt\u001b[38;5;241m.\u001b[39mcolorbar()\n",
      "File \u001b[1;32mc:\\users\\73521\\appdata\\local\\programs\\python\\python38\\lib\\site-packages\\matplotlib\\_api\\deprecation.py:454\u001b[0m, in \u001b[0;36mmake_keyword_only.<locals>.wrapper\u001b[1;34m(*args, **kwargs)\u001b[0m\n\u001b[0;32m    448\u001b[0m \u001b[38;5;28;01mif\u001b[39;00m \u001b[38;5;28mlen\u001b[39m(args) \u001b[38;5;241m>\u001b[39m name_idx:\n\u001b[0;32m    449\u001b[0m     warn_deprecated(\n\u001b[0;32m    450\u001b[0m         since, message\u001b[38;5;241m=\u001b[39m\u001b[38;5;124m\"\u001b[39m\u001b[38;5;124mPassing the \u001b[39m\u001b[38;5;132;01m%(name)s\u001b[39;00m\u001b[38;5;124m \u001b[39m\u001b[38;5;132;01m%(obj_type)s\u001b[39;00m\u001b[38;5;124m \u001b[39m\u001b[38;5;124m\"\u001b[39m\n\u001b[0;32m    451\u001b[0m         \u001b[38;5;124m\"\u001b[39m\u001b[38;5;124mpositionally is deprecated since Matplotlib \u001b[39m\u001b[38;5;132;01m%(since)s\u001b[39;00m\u001b[38;5;124m; the \u001b[39m\u001b[38;5;124m\"\u001b[39m\n\u001b[0;32m    452\u001b[0m         \u001b[38;5;124m\"\u001b[39m\u001b[38;5;124mparameter will become keyword-only \u001b[39m\u001b[38;5;132;01m%(removal)s\u001b[39;00m\u001b[38;5;124m.\u001b[39m\u001b[38;5;124m\"\u001b[39m,\n\u001b[0;32m    453\u001b[0m         name\u001b[38;5;241m=\u001b[39mname, obj_type\u001b[38;5;241m=\u001b[39m\u001b[38;5;124mf\u001b[39m\u001b[38;5;124m\"\u001b[39m\u001b[38;5;124mparameter of \u001b[39m\u001b[38;5;132;01m{\u001b[39;00mfunc\u001b[38;5;241m.\u001b[39m\u001b[38;5;18m__name__\u001b[39m\u001b[38;5;132;01m}\u001b[39;00m\u001b[38;5;124m()\u001b[39m\u001b[38;5;124m\"\u001b[39m)\n\u001b[1;32m--> 454\u001b[0m \u001b[38;5;28;01mreturn\u001b[39;00m \u001b[43mfunc\u001b[49m\u001b[43m(\u001b[49m\u001b[38;5;241;43m*\u001b[39;49m\u001b[43margs\u001b[49m\u001b[43m,\u001b[49m\u001b[43m \u001b[49m\u001b[38;5;241;43m*\u001b[39;49m\u001b[38;5;241;43m*\u001b[39;49m\u001b[43mkwargs\u001b[49m\u001b[43m)\u001b[49m\n",
      "File \u001b[1;32mc:\\users\\73521\\appdata\\local\\programs\\python\\python38\\lib\\site-packages\\matplotlib\\pyplot.py:2623\u001b[0m, in \u001b[0;36mimshow\u001b[1;34m(X, cmap, norm, aspect, interpolation, alpha, vmin, vmax, origin, extent, interpolation_stage, filternorm, filterrad, resample, url, data, **kwargs)\u001b[0m\n\u001b[0;32m   2617\u001b[0m \u001b[38;5;129m@_copy_docstring_and_deprecators\u001b[39m(Axes\u001b[38;5;241m.\u001b[39mimshow)\n\u001b[0;32m   2618\u001b[0m \u001b[38;5;28;01mdef\u001b[39;00m \u001b[38;5;21mimshow\u001b[39m(\n\u001b[0;32m   2619\u001b[0m         X, cmap\u001b[38;5;241m=\u001b[39m\u001b[38;5;28;01mNone\u001b[39;00m, norm\u001b[38;5;241m=\u001b[39m\u001b[38;5;28;01mNone\u001b[39;00m, aspect\u001b[38;5;241m=\u001b[39m\u001b[38;5;28;01mNone\u001b[39;00m, interpolation\u001b[38;5;241m=\u001b[39m\u001b[38;5;28;01mNone\u001b[39;00m,\n\u001b[0;32m   2620\u001b[0m         alpha\u001b[38;5;241m=\u001b[39m\u001b[38;5;28;01mNone\u001b[39;00m, vmin\u001b[38;5;241m=\u001b[39m\u001b[38;5;28;01mNone\u001b[39;00m, vmax\u001b[38;5;241m=\u001b[39m\u001b[38;5;28;01mNone\u001b[39;00m, origin\u001b[38;5;241m=\u001b[39m\u001b[38;5;28;01mNone\u001b[39;00m, extent\u001b[38;5;241m=\u001b[39m\u001b[38;5;28;01mNone\u001b[39;00m, \u001b[38;5;241m*\u001b[39m,\n\u001b[0;32m   2621\u001b[0m         interpolation_stage\u001b[38;5;241m=\u001b[39m\u001b[38;5;28;01mNone\u001b[39;00m, filternorm\u001b[38;5;241m=\u001b[39m\u001b[38;5;28;01mTrue\u001b[39;00m, filterrad\u001b[38;5;241m=\u001b[39m\u001b[38;5;241m4.0\u001b[39m,\n\u001b[0;32m   2622\u001b[0m         resample\u001b[38;5;241m=\u001b[39m\u001b[38;5;28;01mNone\u001b[39;00m, url\u001b[38;5;241m=\u001b[39m\u001b[38;5;28;01mNone\u001b[39;00m, data\u001b[38;5;241m=\u001b[39m\u001b[38;5;28;01mNone\u001b[39;00m, \u001b[38;5;241m*\u001b[39m\u001b[38;5;241m*\u001b[39mkwargs):\n\u001b[1;32m-> 2623\u001b[0m     __ret \u001b[38;5;241m=\u001b[39m \u001b[43mgca\u001b[49m\u001b[43m(\u001b[49m\u001b[43m)\u001b[49m\u001b[38;5;241;43m.\u001b[39;49m\u001b[43mimshow\u001b[49m\u001b[43m(\u001b[49m\n\u001b[0;32m   2624\u001b[0m \u001b[43m        \u001b[49m\u001b[43mX\u001b[49m\u001b[43m,\u001b[49m\u001b[43m \u001b[49m\u001b[43mcmap\u001b[49m\u001b[38;5;241;43m=\u001b[39;49m\u001b[43mcmap\u001b[49m\u001b[43m,\u001b[49m\u001b[43m \u001b[49m\u001b[43mnorm\u001b[49m\u001b[38;5;241;43m=\u001b[39;49m\u001b[43mnorm\u001b[49m\u001b[43m,\u001b[49m\u001b[43m \u001b[49m\u001b[43maspect\u001b[49m\u001b[38;5;241;43m=\u001b[39;49m\u001b[43maspect\u001b[49m\u001b[43m,\u001b[49m\n\u001b[0;32m   2625\u001b[0m \u001b[43m        \u001b[49m\u001b[43minterpolation\u001b[49m\u001b[38;5;241;43m=\u001b[39;49m\u001b[43minterpolation\u001b[49m\u001b[43m,\u001b[49m\u001b[43m \u001b[49m\u001b[43malpha\u001b[49m\u001b[38;5;241;43m=\u001b[39;49m\u001b[43malpha\u001b[49m\u001b[43m,\u001b[49m\u001b[43m \u001b[49m\u001b[43mvmin\u001b[49m\u001b[38;5;241;43m=\u001b[39;49m\u001b[43mvmin\u001b[49m\u001b[43m,\u001b[49m\n\u001b[0;32m   2626\u001b[0m \u001b[43m        \u001b[49m\u001b[43mvmax\u001b[49m\u001b[38;5;241;43m=\u001b[39;49m\u001b[43mvmax\u001b[49m\u001b[43m,\u001b[49m\u001b[43m \u001b[49m\u001b[43morigin\u001b[49m\u001b[38;5;241;43m=\u001b[39;49m\u001b[43morigin\u001b[49m\u001b[43m,\u001b[49m\u001b[43m \u001b[49m\u001b[43mextent\u001b[49m\u001b[38;5;241;43m=\u001b[39;49m\u001b[43mextent\u001b[49m\u001b[43m,\u001b[49m\n\u001b[0;32m   2627\u001b[0m \u001b[43m        \u001b[49m\u001b[43minterpolation_stage\u001b[49m\u001b[38;5;241;43m=\u001b[39;49m\u001b[43minterpolation_stage\u001b[49m\u001b[43m,\u001b[49m\n\u001b[0;32m   2628\u001b[0m \u001b[43m        \u001b[49m\u001b[43mfilternorm\u001b[49m\u001b[38;5;241;43m=\u001b[39;49m\u001b[43mfilternorm\u001b[49m\u001b[43m,\u001b[49m\u001b[43m \u001b[49m\u001b[43mfilterrad\u001b[49m\u001b[38;5;241;43m=\u001b[39;49m\u001b[43mfilterrad\u001b[49m\u001b[43m,\u001b[49m\u001b[43m \u001b[49m\u001b[43mresample\u001b[49m\u001b[38;5;241;43m=\u001b[39;49m\u001b[43mresample\u001b[49m\u001b[43m,\u001b[49m\n\u001b[0;32m   2629\u001b[0m \u001b[43m        \u001b[49m\u001b[43murl\u001b[49m\u001b[38;5;241;43m=\u001b[39;49m\u001b[43murl\u001b[49m\u001b[43m,\u001b[49m\u001b[43m \u001b[49m\u001b[38;5;241;43m*\u001b[39;49m\u001b[38;5;241;43m*\u001b[39;49m\u001b[43m(\u001b[49m\u001b[43m{\u001b[49m\u001b[38;5;124;43m\"\u001b[39;49m\u001b[38;5;124;43mdata\u001b[39;49m\u001b[38;5;124;43m\"\u001b[39;49m\u001b[43m:\u001b[49m\u001b[43m \u001b[49m\u001b[43mdata\u001b[49m\u001b[43m}\u001b[49m\u001b[43m \u001b[49m\u001b[38;5;28;43;01mif\u001b[39;49;00m\u001b[43m \u001b[49m\u001b[43mdata\u001b[49m\u001b[43m \u001b[49m\u001b[38;5;129;43;01mis\u001b[39;49;00m\u001b[43m \u001b[49m\u001b[38;5;129;43;01mnot\u001b[39;49;00m\u001b[43m \u001b[49m\u001b[38;5;28;43;01mNone\u001b[39;49;00m\u001b[43m \u001b[49m\u001b[38;5;28;43;01melse\u001b[39;49;00m\u001b[43m \u001b[49m\u001b[43m{\u001b[49m\u001b[43m}\u001b[49m\u001b[43m)\u001b[49m\u001b[43m,\u001b[49m\n\u001b[0;32m   2630\u001b[0m \u001b[43m        \u001b[49m\u001b[38;5;241;43m*\u001b[39;49m\u001b[38;5;241;43m*\u001b[39;49m\u001b[43mkwargs\u001b[49m\u001b[43m)\u001b[49m\n\u001b[0;32m   2631\u001b[0m     sci(__ret)\n\u001b[0;32m   2632\u001b[0m     \u001b[38;5;28;01mreturn\u001b[39;00m __ret\n",
      "File \u001b[1;32mc:\\users\\73521\\appdata\\local\\programs\\python\\python38\\lib\\site-packages\\matplotlib\\_api\\deprecation.py:454\u001b[0m, in \u001b[0;36mmake_keyword_only.<locals>.wrapper\u001b[1;34m(*args, **kwargs)\u001b[0m\n\u001b[0;32m    448\u001b[0m \u001b[38;5;28;01mif\u001b[39;00m \u001b[38;5;28mlen\u001b[39m(args) \u001b[38;5;241m>\u001b[39m name_idx:\n\u001b[0;32m    449\u001b[0m     warn_deprecated(\n\u001b[0;32m    450\u001b[0m         since, message\u001b[38;5;241m=\u001b[39m\u001b[38;5;124m\"\u001b[39m\u001b[38;5;124mPassing the \u001b[39m\u001b[38;5;132;01m%(name)s\u001b[39;00m\u001b[38;5;124m \u001b[39m\u001b[38;5;132;01m%(obj_type)s\u001b[39;00m\u001b[38;5;124m \u001b[39m\u001b[38;5;124m\"\u001b[39m\n\u001b[0;32m    451\u001b[0m         \u001b[38;5;124m\"\u001b[39m\u001b[38;5;124mpositionally is deprecated since Matplotlib \u001b[39m\u001b[38;5;132;01m%(since)s\u001b[39;00m\u001b[38;5;124m; the \u001b[39m\u001b[38;5;124m\"\u001b[39m\n\u001b[0;32m    452\u001b[0m         \u001b[38;5;124m\"\u001b[39m\u001b[38;5;124mparameter will become keyword-only \u001b[39m\u001b[38;5;132;01m%(removal)s\u001b[39;00m\u001b[38;5;124m.\u001b[39m\u001b[38;5;124m\"\u001b[39m,\n\u001b[0;32m    453\u001b[0m         name\u001b[38;5;241m=\u001b[39mname, obj_type\u001b[38;5;241m=\u001b[39m\u001b[38;5;124mf\u001b[39m\u001b[38;5;124m\"\u001b[39m\u001b[38;5;124mparameter of \u001b[39m\u001b[38;5;132;01m{\u001b[39;00mfunc\u001b[38;5;241m.\u001b[39m\u001b[38;5;18m__name__\u001b[39m\u001b[38;5;132;01m}\u001b[39;00m\u001b[38;5;124m()\u001b[39m\u001b[38;5;124m\"\u001b[39m)\n\u001b[1;32m--> 454\u001b[0m \u001b[38;5;28;01mreturn\u001b[39;00m \u001b[43mfunc\u001b[49m\u001b[43m(\u001b[49m\u001b[38;5;241;43m*\u001b[39;49m\u001b[43margs\u001b[49m\u001b[43m,\u001b[49m\u001b[43m \u001b[49m\u001b[38;5;241;43m*\u001b[39;49m\u001b[38;5;241;43m*\u001b[39;49m\u001b[43mkwargs\u001b[49m\u001b[43m)\u001b[49m\n",
      "File \u001b[1;32mc:\\users\\73521\\appdata\\local\\programs\\python\\python38\\lib\\site-packages\\matplotlib\\__init__.py:1423\u001b[0m, in \u001b[0;36m_preprocess_data.<locals>.inner\u001b[1;34m(ax, data, *args, **kwargs)\u001b[0m\n\u001b[0;32m   1420\u001b[0m \u001b[38;5;129m@functools\u001b[39m\u001b[38;5;241m.\u001b[39mwraps(func)\n\u001b[0;32m   1421\u001b[0m \u001b[38;5;28;01mdef\u001b[39;00m \u001b[38;5;21minner\u001b[39m(ax, \u001b[38;5;241m*\u001b[39margs, data\u001b[38;5;241m=\u001b[39m\u001b[38;5;28;01mNone\u001b[39;00m, \u001b[38;5;241m*\u001b[39m\u001b[38;5;241m*\u001b[39mkwargs):\n\u001b[0;32m   1422\u001b[0m     \u001b[38;5;28;01mif\u001b[39;00m data \u001b[38;5;129;01mis\u001b[39;00m \u001b[38;5;28;01mNone\u001b[39;00m:\n\u001b[1;32m-> 1423\u001b[0m         \u001b[38;5;28;01mreturn\u001b[39;00m \u001b[43mfunc\u001b[49m\u001b[43m(\u001b[49m\u001b[43max\u001b[49m\u001b[43m,\u001b[49m\u001b[43m \u001b[49m\u001b[38;5;241;43m*\u001b[39;49m\u001b[38;5;28;43mmap\u001b[39;49m\u001b[43m(\u001b[49m\u001b[43msanitize_sequence\u001b[49m\u001b[43m,\u001b[49m\u001b[43m \u001b[49m\u001b[43margs\u001b[49m\u001b[43m)\u001b[49m\u001b[43m,\u001b[49m\u001b[43m \u001b[49m\u001b[38;5;241;43m*\u001b[39;49m\u001b[38;5;241;43m*\u001b[39;49m\u001b[43mkwargs\u001b[49m\u001b[43m)\u001b[49m\n\u001b[0;32m   1425\u001b[0m     bound \u001b[38;5;241m=\u001b[39m new_sig\u001b[38;5;241m.\u001b[39mbind(ax, \u001b[38;5;241m*\u001b[39margs, \u001b[38;5;241m*\u001b[39m\u001b[38;5;241m*\u001b[39mkwargs)\n\u001b[0;32m   1426\u001b[0m     auto_label \u001b[38;5;241m=\u001b[39m (bound\u001b[38;5;241m.\u001b[39marguments\u001b[38;5;241m.\u001b[39mget(label_namer)\n\u001b[0;32m   1427\u001b[0m                   \u001b[38;5;129;01mor\u001b[39;00m bound\u001b[38;5;241m.\u001b[39mkwargs\u001b[38;5;241m.\u001b[39mget(label_namer))\n",
      "File \u001b[1;32mc:\\users\\73521\\appdata\\local\\programs\\python\\python38\\lib\\site-packages\\matplotlib\\axes\\_axes.py:5604\u001b[0m, in \u001b[0;36mAxes.imshow\u001b[1;34m(self, X, cmap, norm, aspect, interpolation, alpha, vmin, vmax, origin, extent, interpolation_stage, filternorm, filterrad, resample, url, **kwargs)\u001b[0m\n\u001b[0;32m   5596\u001b[0m \u001b[38;5;28mself\u001b[39m\u001b[38;5;241m.\u001b[39mset_aspect(aspect)\n\u001b[0;32m   5597\u001b[0m im \u001b[38;5;241m=\u001b[39m mimage\u001b[38;5;241m.\u001b[39mAxesImage(\u001b[38;5;28mself\u001b[39m, cmap\u001b[38;5;241m=\u001b[39mcmap, norm\u001b[38;5;241m=\u001b[39mnorm,\n\u001b[0;32m   5598\u001b[0m                       interpolation\u001b[38;5;241m=\u001b[39minterpolation, origin\u001b[38;5;241m=\u001b[39morigin,\n\u001b[0;32m   5599\u001b[0m                       extent\u001b[38;5;241m=\u001b[39mextent, filternorm\u001b[38;5;241m=\u001b[39mfilternorm,\n\u001b[0;32m   5600\u001b[0m                       filterrad\u001b[38;5;241m=\u001b[39mfilterrad, resample\u001b[38;5;241m=\u001b[39mresample,\n\u001b[0;32m   5601\u001b[0m                       interpolation_stage\u001b[38;5;241m=\u001b[39minterpolation_stage,\n\u001b[0;32m   5602\u001b[0m                       \u001b[38;5;241m*\u001b[39m\u001b[38;5;241m*\u001b[39mkwargs)\n\u001b[1;32m-> 5604\u001b[0m \u001b[43mim\u001b[49m\u001b[38;5;241;43m.\u001b[39;49m\u001b[43mset_data\u001b[49m\u001b[43m(\u001b[49m\u001b[43mX\u001b[49m\u001b[43m)\u001b[49m\n\u001b[0;32m   5605\u001b[0m im\u001b[38;5;241m.\u001b[39mset_alpha(alpha)\n\u001b[0;32m   5606\u001b[0m \u001b[38;5;28;01mif\u001b[39;00m im\u001b[38;5;241m.\u001b[39mget_clip_path() \u001b[38;5;129;01mis\u001b[39;00m \u001b[38;5;28;01mNone\u001b[39;00m:\n\u001b[0;32m   5607\u001b[0m     \u001b[38;5;66;03m# image does not already have clipping set, clip to axes patch\u001b[39;00m\n",
      "File \u001b[1;32mc:\\users\\73521\\appdata\\local\\programs\\python\\python38\\lib\\site-packages\\matplotlib\\image.py:710\u001b[0m, in \u001b[0;36m_ImageBase.set_data\u001b[1;34m(self, A)\u001b[0m\n\u001b[0;32m    706\u001b[0m     \u001b[38;5;28mself\u001b[39m\u001b[38;5;241m.\u001b[39m_A \u001b[38;5;241m=\u001b[39m \u001b[38;5;28mself\u001b[39m\u001b[38;5;241m.\u001b[39m_A[:, :, \u001b[38;5;241m0\u001b[39m]\n\u001b[0;32m    708\u001b[0m \u001b[38;5;28;01mif\u001b[39;00m \u001b[38;5;129;01mnot\u001b[39;00m (\u001b[38;5;28mself\u001b[39m\u001b[38;5;241m.\u001b[39m_A\u001b[38;5;241m.\u001b[39mndim \u001b[38;5;241m==\u001b[39m \u001b[38;5;241m2\u001b[39m\n\u001b[0;32m    709\u001b[0m         \u001b[38;5;129;01mor\u001b[39;00m \u001b[38;5;28mself\u001b[39m\u001b[38;5;241m.\u001b[39m_A\u001b[38;5;241m.\u001b[39mndim \u001b[38;5;241m==\u001b[39m \u001b[38;5;241m3\u001b[39m \u001b[38;5;129;01mand\u001b[39;00m \u001b[38;5;28mself\u001b[39m\u001b[38;5;241m.\u001b[39m_A\u001b[38;5;241m.\u001b[39mshape[\u001b[38;5;241m-\u001b[39m\u001b[38;5;241m1\u001b[39m] \u001b[38;5;129;01min\u001b[39;00m [\u001b[38;5;241m3\u001b[39m, \u001b[38;5;241m4\u001b[39m]):\n\u001b[1;32m--> 710\u001b[0m     \u001b[38;5;28;01mraise\u001b[39;00m \u001b[38;5;167;01mTypeError\u001b[39;00m(\u001b[38;5;124m\"\u001b[39m\u001b[38;5;124mInvalid shape \u001b[39m\u001b[38;5;132;01m{}\u001b[39;00m\u001b[38;5;124m for image data\u001b[39m\u001b[38;5;124m\"\u001b[39m\n\u001b[0;32m    711\u001b[0m                     \u001b[38;5;241m.\u001b[39mformat(\u001b[38;5;28mself\u001b[39m\u001b[38;5;241m.\u001b[39m_A\u001b[38;5;241m.\u001b[39mshape))\n\u001b[0;32m    713\u001b[0m \u001b[38;5;28;01mif\u001b[39;00m \u001b[38;5;28mself\u001b[39m\u001b[38;5;241m.\u001b[39m_A\u001b[38;5;241m.\u001b[39mndim \u001b[38;5;241m==\u001b[39m \u001b[38;5;241m3\u001b[39m:\n\u001b[0;32m    714\u001b[0m     \u001b[38;5;66;03m# If the input data has values outside the valid range (after\u001b[39;00m\n\u001b[0;32m    715\u001b[0m     \u001b[38;5;66;03m# normalisation), we issue a warning and then clip X to the bounds\u001b[39;00m\n\u001b[0;32m    716\u001b[0m     \u001b[38;5;66;03m# - otherwise casting wraps extreme values, hiding outliers and\u001b[39;00m\n\u001b[0;32m    717\u001b[0m     \u001b[38;5;66;03m# making reliable interpretation impossible.\u001b[39;00m\n\u001b[0;32m    718\u001b[0m     high \u001b[38;5;241m=\u001b[39m \u001b[38;5;241m255\u001b[39m \u001b[38;5;28;01mif\u001b[39;00m np\u001b[38;5;241m.\u001b[39missubdtype(\u001b[38;5;28mself\u001b[39m\u001b[38;5;241m.\u001b[39m_A\u001b[38;5;241m.\u001b[39mdtype, np\u001b[38;5;241m.\u001b[39minteger) \u001b[38;5;28;01melse\u001b[39;00m \u001b[38;5;241m1\u001b[39m\n",
      "\u001b[1;31mTypeError\u001b[0m: Invalid shape () for image data"
     ]
    },
    {
     "data": {
      "application/vnd.jupyter.widget-view+json": {
       "model_id": "af8313ce733b4f79bf034619deec29b9",
       "version_major": 2,
       "version_minor": 0
      },
      "image/png": "[encoded data removed]",
      "text/html": [
       "\n",
       "            <div style=\"display: inline-block;\">\n",
       "                <div class=\"jupyter-widgets widget-label\" style=\"text-align: center;\">\n",
       "                    Figure\n",
       "                </div>\n",
       "                <img src='data:image/png;base64,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' width=640.0/>\n",
       "            </div>\n",
       "        "
      ],
      "text/plain": [
       "Canvas(toolbar=Toolbar(toolitems=[('Home', 'Reset original view', 'home', 'home'), ('Back', 'Back to previous …"
      ]
     },
     "metadata": {},
     "output_type": "display_data"
    }
   ],
   "source": [
    "%matplotlib ipympl\n",
    "\n",
    "plt.figure(1)\n",
    "plt.clf()\n",
    "plt.imshow(science_cube[0], interpolation=None, origin='lower', cmap='Greys_r') #vmin = , vmax = \n",
    "plt.title('First science image')\n",
    "plt.colorbar()\n",
    "\n",
    "plt.figure(2)\n",
    "plt.clf()\n",
    "plt.imshow(dark_cube[0], interpolation=None, origin='lower', cmap='Greys_r')\n",
    "plt.title('First Dark image')\n",
    "plt.colorbar()\n",
    "\n",
    "plt.figure(3)\n",
    "plt.clf()\n",
    "plt.imshow(np.mean(dark_cube, axis=0), interpolation=None, origin='lower', cmap='Greys_r')\n",
    "plt.title('Stacked master dark image')\n",
    "plt.colorbar()\n",
    "\n",
    "plt.figure(4)\n",
    "plt.clf()\n",
    "plt.imshow(calib_cube[0], interpolation=None, origin='lower', cmap='Greys_r')\n",
    "plt.title('First Calib image')\n",
    "plt.colorbar()\n",
    "\n",
    "plt.figure(5)\n",
    "plt.clf()\n",
    "plt.imshow(np.mean(calib_cube, axis=0), interpolation=None, origin='lower', cmap='Greys_r')\n",
    "plt.title('Stacked Calib image')\n",
    "plt.colorbar()\n",
    "\n",
    "# Si utilisation des flats, les visualiser sur le modèle des blocs de code précédents"
   ]
  },
  {
   "cell_type": "markdown",
   "metadata": {},
   "source": [
    "# Réduction des données\n",
    "\n",
    "Dans cette section, le but est de réduire les données brutes de science, pour parvenir à des données exploitables scientifiquement. Une image réduite $I_r$ est la soustraction de l'image brute $I_b$ et de la moyenne des darks, ou Master Dark, MD : $I_t = I_b - MD$. En cas d'utilisation des Flats, il faut également diviser le tout par la moyenne des Flats, le Master Flat MF : $I_r = \\frac{I_b - MD}{MF}$."
   ]
  },
  {
   "cell_type": "markdown",
   "metadata": {
    "tags": []
   },
   "source": [
    "### Code"
   ]
  },
  {
   "cell_type": "code",
   "execution_count": 19,
   "metadata": {},
   "outputs": [],
   "source": [
    "for i in range(science_cube.shape[0]):\n",
    "    science_cube[i,:,:] = science_cube[i,:,:] - np.mean(dark_cube, axis=0) #Ajouter le master flat si nécessaire"
   ]
  },
  {
   "cell_type": "markdown",
   "metadata": {},
   "source": [
    "### Visualisation"
   ]
  },
  {
   "cell_type": "code",
   "execution_count": null,
   "metadata": {},
   "outputs": [],
   "source": [
    "%matplotlib ipympl\n",
    "\n",
    "plt.figure(6)\n",
    "plt.clf()\n",
    "plt.imshow(science_cube[0,:,:], interpolation=None, origin='lower', cmap='Greys_r') #vmin = , vmax = \n",
    "# Essayer de modifier le premier indice du cube pour tester.\n",
    "plt.title('First science image with master dark subtracted')\n",
    "plt.colorbar()"
   ]
  },
  {
   "cell_type": "markdown",
   "metadata": {},
   "source": [
    "# Rotation des spectres\n",
    "\n",
    "Le plus souvent, les spectres que vous obtiendrez en sortie de la réduction seront inclinés. Etant donné que votre but sera d'analyser des spectres, cela sera plus simple s'il suffit de récupérer une ligne dans un tableau numpy pour faire ce travail. Il faudra donc faire tourner l'image selon un angle que vous aurez déterminé pour que le spectre soit horizontal.\n",
    "\n",
    "Pour pouvoir étalonner facilement les spectres, il faut faire cette démarche avec l'image de calibration également.\n",
    "\n",
    "L'angle optimal de rotation peut être déterminé à l'aide de DS9. Attention l'angle optimal pour la rotation par python est l'opposé de l'angle donné par DS9 $\\theta_{opt, python} = - \\theta_{opt, DS9}$"
   ]
  },
  {
   "cell_type": "markdown",
   "metadata": {},
   "source": [
    "### Code"
   ]
  },
  {
   "cell_type": "code",
   "execution_count": 21,
   "metadata": {},
   "outputs": [],
   "source": [
    "### Données de science ###\n",
    "\n",
    "rotated_cube = [] \n",
    "rotation_angle = # Angle en degrés à déterminer à l'aide de DS9 pour mettre le spectre horizontal.\n",
    "for i in range(science_cube.shape[0]):\n",
    "    rotated_cube.append(rotate(science_cube[i,:,:], rotation_angle))\n",
    "rotated_cube = np.asarray(rotated_cube)"
   ]
  },
  {
   "cell_type": "markdown",
   "metadata": {},
   "source": [
    "### Spectre de référence pour l'étalonnage spectral\n",
    "Extraction du spectre de référence de la lampe à l'Argon-Néon : trouver l'indice de la ligne centrale du spectre selon laquelle on va effectuer une coupe pour extraire le spectre 1D"
   ]
  },
  {
   "cell_type": "code",
   "execution_count": null,
   "metadata": {},
   "outputs": [],
   "source": [
    "### Images de calibration ###\n",
    "image = calib_cube[0,:,:]"
   ]
  },
  {
   "cell_type": "code",
   "execution_count": null,
   "metadata": {},
   "outputs": [],
   "source": [
    "%matplotlib ipympl\n",
    "\n",
    "plt.figure(8)\n",
    "plt.clf()\n",
    "plt.imshow(rotate(image,rotation_angle), interpolation=None, origin='lower', cmap='Greys_r') #vmin = ,  vmax =\n",
    "plt.title('First calib image rotated')\n",
    "plt.colorbar()"
   ]
  },
  {
   "cell_type": "code",
   "execution_count": null,
   "metadata": {},
   "outputs": [],
   "source": [
    "pixel_cut = # rentrer l'indice de la ligne centrale du spectre\n",
    "ar_ne_spectrum = rotate(image,rotation_angle)[pixel_cut,:]"
   ]
  },
  {
   "cell_type": "markdown",
   "metadata": {},
   "source": [
    "### Visualisation"
   ]
  },
  {
   "cell_type": "code",
   "execution_count": null,
   "metadata": {},
   "outputs": [],
   "source": [
    "%matplotlib ipympl\n",
    "\n",
    "### Données de science ###\n",
    "\n",
    "plt.figure(7)\n",
    "plt.clf()\n",
    "plt.imshow(rotated_cube[0,:,:], interpolation=None, origin='lower', cmap='Greys_r') #vmin = ,  vmax =\n",
    "plt.title('First science image rotated')\n",
    "plt.colorbar()\n",
    "\n",
    "### Images de calibration ###\n",
    "\n",
    "plt.figure(9)\n",
    "plt.clf()\n",
    "plt.plot(ar_ne_spectrum)\n",
    "plt.xlabel('Array index')\n",
    "plt.ylabel('Arbitrary intensity')\n",
    "plt.title('Ar Ne calibration lamp spectrum')\n",
    "plt.grid()"
   ]
  },
  {
   "cell_type": "markdown",
   "metadata": {},
   "source": [
    "# Etalonnage spectral à l'aide la lampe ArNe\n",
    "\n",
    "Dans cette section, le but sera d'étalonner votre spectre, en reliant les positions des pics en pixels aux longueurs d'onde correspondantes."
   ]
  },
  {
   "cell_type": "markdown",
   "metadata": {},
   "source": [
    "### Définition de la zone du spectre\n",
    "Ici le but est de trouver dans quelle zone de l'image se trouve le signal significatif du spectre : en effectuant une coupe verticale (dimension spatiale de l'image, perpendiculaire au spectre) dans l'image, on repère la zone d'intérêt et les zones qui ne sont que du bruit. Un critère quantitatif permettant de déterminer ces limites pourrait être l'écart-type.\n",
    "\n",
    "Notez bien que selon le sujet que vous traitez, vous pouvez avoir besoin de l'information contenue le long de la direction spatiale. Dans ce cas, il ne faut pas utiliser de spectres moyennés verticalement sur plusieurs pixels, mais à des spectres extraits sur une seule ligne."
   ]
  },
  {
   "cell_type": "markdown",
   "metadata": {},
   "source": [
    "#### Coupe verticale"
   ]
  },
  {
   "cell_type": "code",
   "execution_count": null,
   "metadata": {},
   "outputs": [],
   "source": [
    "%matplotlib ipympl\n",
    "\n",
    "plt.figure(10)\n",
    "plt.clf()\n",
    "plt.plot(rotated_cube[0,:,2210]) # Indice de la colonne où la coupe est effectuée. À modifier\n",
    "plt.ylim(0,1000) # À modifier\n",
    "plt.ylabel('Arbitrary intensity')\n",
    "plt.xlabel('Array index in px')\n",
    "plt.grid()\n",
    "plt.title('Spatial cut in Atik One images')"
   ]
  },
  {
   "cell_type": "markdown",
   "metadata": {},
   "source": [
    "#### Extraction du spectre 1D"
   ]
  },
  {
   "cell_type": "code",
   "execution_count": null,
   "metadata": {},
   "outputs": [],
   "source": [
    "%matplotlib ipympl\n",
    "\n",
    "average_pixels= # Pixel central autour duquel les 20 pixels voisins sont moyennés pour \"lisser\" le spectre extrait.\n",
    "\n",
    "#======================================================================================================\n",
    "# À ne faire que si la dimension spatiale de vos données n'a pas d'importance ! Sinon, ne pas moyenner.\n",
    "extract_avg_spectrum = np.mean(rotated_cube[0,average_pixels:average_pixels+20,:], axis=0)\n",
    "#======================================================================================================\n",
    "\n",
    "central_pix= # Pixel central où le spectre 1D est extrait (sans moyenne). À modifier\n",
    "plt.figure(11)\n",
    "plt.clf()\n",
    "plt.plot(extract_avg_spectrum, 'k-', lw=1, label='spatially averaged')\n",
    "plt.plot(rotated_cube[0,central_pix,:], 'r-', label='central cut')\n",
    "plt.ylabel('Arbitrary intensity')\n",
    "plt.xlabel('Arrays index, not wavelengths yet')\n",
    "plt.title(' ') # À modifier\n",
    "plt.grid()\n",
    "plt.ylim()\n",
    "plt.legend(loc='best')"
   ]
  },
  {
   "cell_type": "markdown",
   "metadata": {},
   "source": [
    "### Correspondance pixels/longueurs d'onde\n",
    "Utiliser le spectre de référence de l'ArNe présenté dans le polycopié pour repérer les raies et faire la correspondance entre leur longueur d'onde lue sur ce spectre et les indices en pixels lus sur vos graphiques précédents."
   ]
  },
  {
   "cell_type": "code",
   "execution_count": null,
   "metadata": {},
   "outputs": [],
   "source": [
    "%matplotlib ipympl\n",
    "\n",
    "plt.figure(12)\n",
    "plt.clf()\n",
    "plt.plot(ar_ne_spectrum)\n",
    "plt.xlabel('Array index')\n",
    "plt.ylabel('Arbitrary intensity')\n",
    "plt.title('Ar Ne calibration lamp spectrum')\n",
    "plt.grid()"
   ]
  },
  {
   "cell_type": "code",
   "execution_count": 26,
   "metadata": {},
   "outputs": [],
   "source": [
    "pixels_peaks = np.array([ ]) # A remplir\n",
    "peaks_lambda = np.array([ ]) # A remplir\n",
    "def affine(x, a=1, b=1):\n",
    "    return a*x + b\n",
    "\n",
    "calib_wvl = curve_fit(affine, pixels_peaks, peaks_lambda, p0=[2, 50])\n",
    "\n",
    "calib_wavelengths = affine(range(len(extract_avg_spectrum)), a=calib_wvl[0][0], b=calib_wvl[0][1])"
   ]
  },
  {
   "cell_type": "markdown",
   "metadata": {},
   "source": [
    "### Visualisation des spectres étalonnés"
   ]
  },
  {
   "cell_type": "code",
   "execution_count": null,
   "metadata": {},
   "outputs": [],
   "source": [
    "%matplotlib ipympl\n",
    "\n",
    "plt.figure(13)\n",
    "plt.clf()\n",
    "plt.plot(calib_wavelengths, extract_avg_spectrum, 'k-', lw=1, label='spatially averaged')\n",
    "plt.plot(calib_wavelengths, rotated_cube[0,central_pix,:], 'r-', label='central cut')\n",
    "plt.ylabel('Arbitrary intensity')\n",
    "plt.xlabel('Wavelengths in nm')\n",
    "plt.title('Reduced and calibrated spectra')\n",
    "plt.grid()\n",
    "plt.legend(loc='best')\n",
    "plt.ylim(0, 2000) # A modifier\n",
    "\n",
    "\n",
    "print(\"Traitement terminé, place à l'analyse !\")"
   ]
  },
  {
   "cell_type": "code",
   "execution_count": null,
   "metadata": {},
   "outputs": [],
   "source": []
  }
 ],
 "metadata": {
  "kernelspec": {
   "display_name": "Python 3 (ipykernel)",
   "language": "python",
   "name": "python3"
  },
  "language_info": {
   "codemirror_mode": {
    "name": "ipython",
    "version": 3
   },
   "file_extension": ".py",
   "mimetype": "text/x-python",
   "name": "python",
   "nbconvert_exporter": "python",
   "pygments_lexer": "ipython3",
   "version": "3.8.3"
  }
 },
 "nbformat": 4,
 "nbformat_minor": 4
}
